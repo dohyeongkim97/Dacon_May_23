{
 "cells": [
  {
   "cell_type": "code",
   "execution_count": null,
   "id": "4ad4fd27",
   "metadata": {},
   "outputs": [],
   "source": [
    "import pandas as pd\n",
    "import numpy as np\n",
    "import matplotlib.pyplot as plt\n",
    "import sklearn\n",
    "import datetime as dt\n",
    "import sys\n",
    "import scipy.stats as stats\n",
    "import urllib\n",
    "from statsmodels.formula.api import ols\n",
    "from statsmodels.stats.anova import anova_lm\n",
    "import torch\n",
    "from torch import cuda\n",
    "\n",
    "\n"
   ]
  },
  {
   "cell_type": "code",
   "execution_count": null,
   "id": "f0e3d616",
   "metadata": {},
   "outputs": [],
   "source": [
    "test = pd.read_csv(\"C:/vscode/open/test.csv\")\n",
    "train = pd.read_csv(\"C:/vscode/open/train.csv\")"
   ]
  },
  {
   "cell_type": "code",
   "execution_count": 6,
   "id": "eef1fe16",
   "metadata": {},
   "outputs": [
    {
     "data": {
      "text/html": [
       "<style>.container { width:80% !important; }</style>"
      ],
      "text/plain": [
       "<IPython.core.display.HTML object>"
      ]
     },
     "metadata": {},
     "output_type": "display_data"
    }
   ],
   "source": [
    "from IPython.display import display, HTML\n",
    "display(HTML(\"<style>.container { width:80% !important; }</style>\"))\n"
   ]
  },
  {
   "cell_type": "markdown",
   "id": "3fc0eec7",
   "metadata": {},
   "source": [
    "# 칼럼 관리"
   ]
  },
  {
   "cell_type": "code",
   "execution_count": null,
   "id": "c7466b6a",
   "metadata": {},
   "outputs": [],
   "source": [
    "columns = train.columns\n",
    "\n",
    "for i in columns:\n",
    "    print(\"unique {}:{}\".format(i, len(train[i].unique())))\n",
    "    print(\"count null {}:{}\".format(i, train[i].isnull().sum()))\n",
    "    print(\"\")"
   ]
  },
  {
   "cell_type": "markdown",
   "id": "b989e77a",
   "metadata": {},
   "source": [
    "TABLE의 칼럼들 중, CANCELLED(항공편 취소됨)과 DIVERTED(경유여부) 칼럼은 NULL도 없으며 모든 관측값들이 동일합니다. 따라서 분석에 영향을 주지 못한다고 판단하여 해당 칼럼을 제거하였습니다."
   ]
  },
  {
   "cell_type": "code",
   "execution_count": null,
   "id": "b5f68d57",
   "metadata": {},
   "outputs": [],
   "source": [
    "ID = train['ID']\n",
    "\n",
    "train.drop(columns = ['ID', 'Origin_Airport_ID', 'Destination_Airport_ID', 'Cancelled', 'Diverted'], inplace=True)"
   ]
  },
  {
   "cell_type": "code",
   "execution_count": null,
   "id": "7a00c44b",
   "metadata": {},
   "outputs": [],
   "source": [
    "train.columns"
   ]
  },
  {
   "cell_type": "markdown",
   "id": "db3a3849",
   "metadata": {},
   "source": [
    "이들 중, NULL이 다수 포함된 칼럼은 Estimated_Departure_Time, 'Estimated_Arrival_Time', 'Origin_State', 'Destination_State', 'Airline'의 다섯 칼럼입니다. "
   ]
  },
  {
   "cell_type": "markdown",
   "id": "acc3e7cc",
   "metadata": {},
   "source": [
    "# Time칼럼 분단위 변환"
   ]
  },
  {
   "cell_type": "code",
   "execution_count": null,
   "id": "7244d3bb",
   "metadata": {},
   "outputs": [],
   "source": [
    "i = 0\n",
    "while i < len(train['Estimated_Departure_Time']):\n",
    "    if train.loc[i, 'Estimated_Departure_Time'] > 0:\n",
    "        train.loc[i, 'edt'] = (train.loc[i, 'Estimated_Departure_Time']//100)*60 + train.loc[i, 'Estimated_Departure_Time']%100\n",
    "    i += 1"
   ]
  },
  {
   "cell_type": "code",
   "execution_count": null,
   "id": "59a1a5a1",
   "metadata": {},
   "outputs": [],
   "source": [
    "i = 0\n",
    "while i < len(train['Estimated_Arrival_Time']):\n",
    "    if train.loc[i, 'Estimated_Arrival_Time'] > 0:\n",
    "        train.loc[i, 'eat'] = (train.loc[i, 'Estimated_Arrival_Time']//100)*60 + train.loc[i, 'Estimated_Arrival_Time']%100\n",
    "    i += 1"
   ]
  },
  {
   "cell_type": "markdown",
   "id": "4eae801d",
   "metadata": {},
   "source": [
    "이후, 빈칸을 채우는 데 활용할 수 있도록, eat칼럼에 대한 변형 작업을 거칩니다.\n",
    "eat < edt라면, 시간대가 변하지 않았다는 가정 하에서는 24시를 넘겨 다음날 도착했다고 보는 것이 타당하므로 해당 조건의 값들에 1440(하루를 분으로 표현)을 더해줍니다."
   ]
  },
  {
   "cell_type": "code",
   "execution_count": null,
   "id": "7f45a564",
   "metadata": {},
   "outputs": [],
   "source": [
    "i = 0\n",
    "while i <= 999999:\n",
    "    if train.loc[i, 'eat'] - train.loc[i, 'edt'] < 0:\n",
    "        train.loc[i, 'eat'] += 1440\n",
    "    i += 1"
   ]
  },
  {
   "cell_type": "markdown",
   "id": "4ab8467a",
   "metadata": {},
   "source": [
    "# 날짜(월, 일)칼럼 D(eparture)와 A로 별도 분리"
   ]
  },
  {
   "cell_type": "markdown",
   "id": "7b0bb557",
   "metadata": {},
   "source": [
    "추가로, 세분화해서 활용 가능하도록, Month와 Day_of_Month를 도착일자와 출발일자로 분리합니다. 출발 일자는 변경이 없겠지만, 도착일자는 위의 조건과 같은 상황에 따라 변동이 가능합니다."
   ]
  },
  {
   "cell_type": "code",
   "execution_count": null,
   "id": "d8fb9af3",
   "metadata": {},
   "outputs": [],
   "source": [
    "train['dmonth'] = train['Month']\n",
    "train['dday'] = train['Day_of_Month']"
   ]
  },
  {
   "cell_type": "code",
   "execution_count": null,
   "id": "db03d0d5",
   "metadata": {},
   "outputs": [],
   "source": [
    "train['amonth'] = train['Month']\n",
    "train['aday'] = train['Day_of_Month']"
   ]
  },
  {
   "cell_type": "markdown",
   "id": "463b89d1",
   "metadata": {},
   "source": [
    "이에, 주별로 공항 데이터를 groupby하여 주 결측값이 있는 데이터에 공항을 통해 주값을 메워주도록 하였습니다. OS(Origin_State)와 DS(Destination_State)를 통해 값을 배정하였습니다."
   ]
  },
  {
   "cell_type": "code",
   "execution_count": null,
   "id": "7a6342cb",
   "metadata": {},
   "outputs": [],
   "source": [
    "OS = train.groupby('Origin_State')['Origin_Airport'].unique().reset_index()\n",
    "DS = train.groupby(\"Destination_State\")['Destination_Airport'].unique().reset_index()"
   ]
  },
  {
   "cell_type": "code",
   "execution_count": null,
   "id": "7ef16da1",
   "metadata": {},
   "outputs": [],
   "source": [
    "type(OS['Origin_Airport'])"
   ]
  },
  {
   "cell_type": "code",
   "execution_count": null,
   "id": "c0bee640",
   "metadata": {},
   "outputs": [],
   "source": [
    "i = 0\n",
    "while i <= 999999:\n",
    "    j = 0\n",
    "    if isinstance(train.loc[i, 'Origin_State'], float):\n",
    "        while j < 52:\n",
    "            if train.loc[i, 'Origin_Airport'] in list(OS.loc[j, 'Origin_Airport']):\n",
    "                train.loc[i, 'Origin_State'] = OS.loc[j, 'Origin_State']\n",
    "            j += 1\n",
    "    i += 1"
   ]
  },
  {
   "cell_type": "code",
   "execution_count": null,
   "id": "90b7f304",
   "metadata": {},
   "outputs": [],
   "source": [
    "i = 0\n",
    "while i <= 999999:\n",
    "    j = 0\n",
    "    if isinstance(train.loc[i, 'Destination_State'], float):\n",
    "        while j < 52:\n",
    "            if train.loc[i, 'Destination_Airport'] in list(DS.loc[j, 'Destination_Airport']):\n",
    "                train.loc[i, 'Destination_State'] = DS.loc[j, 'Destination_State']\n",
    "            j += 1\n",
    "    i += 1"
   ]
  },
  {
   "cell_type": "markdown",
   "id": "e23488ed",
   "metadata": {},
   "source": [
    "이렇게 하면 아무래도 100만개짜리 파일이니 어딘가엔 반드시 매칭되는 공항 정보와 주 정보가 있을 것이고, null값을 처리할 수 있을 거라 봅니다. 그러면 이제 train의 null 정보를 확인해보도록 하겠습니다."
   ]
  },
  {
   "cell_type": "code",
   "execution_count": null,
   "id": "3bd6fe9a",
   "metadata": {},
   "outputs": [],
   "source": [
    "train[['Origin_State', 'Destination_State']].isnull().sum()"
   ]
  },
  {
   "cell_type": "markdown",
   "id": "7cb3634e",
   "metadata": {},
   "source": [
    "?"
   ]
  },
  {
   "cell_type": "code",
   "execution_count": null,
   "id": "71f38161",
   "metadata": {},
   "outputs": [],
   "source": [
    "i = 0\n",
    "while i <= 999999:\n",
    "    j = 0\n",
    "    if isinstance(train.loc[i, 'Destination_State'], float):\n",
    "        while j < 52:\n",
    "            if train.loc[i, 'Destination_Airport'] in list(OS.loc[j, 'Origin_Airport']):\n",
    "                train.loc[i, 'Destination_State'] = DS.loc[j, 'Origin_State']\n",
    "            j += 1\n",
    "    i += 1"
   ]
  },
  {
   "cell_type": "code",
   "execution_count": null,
   "id": "05505143",
   "metadata": {},
   "outputs": [],
   "source": [
    "train[['Origin_State', 'Destination_State']].isnull().sum()"
   ]
  },
  {
   "cell_type": "code",
   "execution_count": null,
   "id": "b1ef4b70",
   "metadata": {},
   "outputs": [],
   "source": [
    "train[train['Destination_State'].isnull()]"
   ]
  },
  {
   "cell_type": "code",
   "execution_count": null,
   "id": "ec767ea3",
   "metadata": {},
   "outputs": [],
   "source": [
    "train[train['Origin_Airport'] == 'YNG']"
   ]
  },
  {
   "cell_type": "code",
   "execution_count": null,
   "id": "3de130fb",
   "metadata": {},
   "outputs": [],
   "source": [
    "train[train['Destination_Airport'] == 'YNG']"
   ]
  },
  {
   "cell_type": "code",
   "execution_count": null,
   "id": "a1ede1a8",
   "metadata": {},
   "outputs": [],
   "source": [
    "train.describe()"
   ]
  },
  {
   "cell_type": "code",
   "execution_count": null,
   "id": "e2839a40",
   "metadata": {},
   "outputs": [],
   "source": [
    "plt.hist(train['Distance'], bins=50)"
   ]
  },
  {
   "cell_type": "code",
   "execution_count": null,
   "id": "bd684c64",
   "metadata": {},
   "outputs": [],
   "source": [
    "train[train['Distance']>3000].head(50)"
   ]
  },
  {
   "cell_type": "code",
   "execution_count": null,
   "id": "32e06239",
   "metadata": {},
   "outputs": [],
   "source": [
    "i = 0\n",
    "while i < 999999:\n",
    "    if train.loc[i, 'edt'] > 0 and train.loc[i, 'eat'] > 0 :\n",
    "        train.loc[i, 'time'] = train.loc[i, 'eat'] - train.loc[i, 'edt']\n",
    "    i += 1\n",
    "    "
   ]
  },
  {
   "cell_type": "code",
   "execution_count": null,
   "id": "cbaa148a",
   "metadata": {},
   "outputs": [],
   "source": [
    "plt.scatter( train[train['time'].notnull()][['Distance', 'time']]['Distance'], train[train['time'].notnull()][['Distance', 'time']]['time'])"
   ]
  },
  {
   "cell_type": "code",
   "execution_count": null,
   "id": "db56b7b0",
   "metadata": {},
   "outputs": [],
   "source": [
    "train[train['time']>1400]"
   ]
  },
  {
   "cell_type": "code",
   "execution_count": null,
   "id": "150dc750",
   "metadata": {},
   "outputs": [],
   "source": [
    "distance = train.groupby(['Origin_State', 'Destination_State'])['Distance'].mean().reset_index()"
   ]
  },
  {
   "cell_type": "code",
   "execution_count": null,
   "id": "7f2dbbb6",
   "metadata": {},
   "outputs": [],
   "source": [
    "deptimes = train.groupby([\"Origin_State\", \"Destination_State\"])['edt'].mean().reset_index()"
   ]
  },
  {
   "cell_type": "code",
   "execution_count": null,
   "id": "37c85d98",
   "metadata": {},
   "outputs": [],
   "source": [
    "atimes = train.groupby(['Origin_State', 'Destination_State'])['eat'].mean().reset_index()"
   ]
  },
  {
   "cell_type": "code",
   "execution_count": null,
   "id": "7616d7be",
   "metadata": {},
   "outputs": [],
   "source": [
    "distance = distance.merge(deptimes, how='left', on = ['Origin_State', 'Destination_State']).merge(atimes, how='left', on=['Origin_State', 'Destination_State'])"
   ]
  },
  {
   "cell_type": "code",
   "execution_count": null,
   "id": "0fb9256d",
   "metadata": {},
   "outputs": [],
   "source": [
    "distance['times'] = distance['eat']-distance['edt']"
   ]
  },
  {
   "cell_type": "code",
   "execution_count": null,
   "id": "9a7daabc",
   "metadata": {},
   "outputs": [],
   "source": [
    "list((set(distance[distance['Origin_State']=='California'].index)\\\n",
    "      &set(distance[distance['Destination_State']=='Texas'].index)))[0]"
   ]
  },
  {
   "cell_type": "code",
   "execution_count": null,
   "id": "0b7039b7",
   "metadata": {},
   "outputs": [],
   "source": [
    "distance"
   ]
  },
  {
   "cell_type": "code",
   "execution_count": null,
   "id": "efdd959c",
   "metadata": {},
   "outputs": [],
   "source": [
    "train"
   ]
  },
  {
   "cell_type": "code",
   "execution_count": null,
   "id": "f8c00b91",
   "metadata": {},
   "outputs": [],
   "source": [
    "distance[distance['Destination_State']==train.loc[5, 'Destination_State']]"
   ]
  },
  {
   "cell_type": "code",
   "execution_count": null,
   "id": "ab97b4bd",
   "metadata": {},
   "outputs": [],
   "source": [
    "i = 0\n",
    "while i <= 999999:\n",
    "    if train.loc[i, 'edt'] > 0:\n",
    "        pass\n",
    "    else : \n",
    "        if train.loc[i, 'eat'] > 0:\n",
    "            if len(list(set(distance[distance['Origin_State']==train.loc[i, 'Origin_State']].index)&set(distance[distance['Destination_State']==train.loc[i, 'Destination_State']].index))) != 0:\n",
    "                train.loc[i, 'edt'] = train.loc[i, 'eat'] - distance.loc[list(set(distance[distance['Origin_State']==train.loc[i, 'Origin_State']].index)&set(distance[distance['Destination_State']==train.loc[i, 'Destination_State']].index))[0], 'times']\n",
    "            else:\n",
    "                pass\n",
    "    i += 1"
   ]
  },
  {
   "cell_type": "code",
   "execution_count": null,
   "id": "a74e3874",
   "metadata": {},
   "outputs": [],
   "source": [
    "i = 0\n",
    "while i <= 999999:\n",
    "    if train.loc[i, 'eat'] > 0:\n",
    "        pass\n",
    "    else : \n",
    "        if train.loc[i, 'edt'] > 0:\n",
    "            if len(list(set(distance[distance['Origin_State']==train.loc[i, 'Origin_State']].index)&set(distance[distance['Destination_State']==train.loc[i, 'Destination_State']].index))) != 0:\n",
    "                train.loc[i, 'eat'] = train.loc[i, 'edt'] + distance.loc[list(set(distance[distance['Origin_State']==train.loc[i, 'Origin_State']].index)&set(distance[distance\\\n",
    "                ['Destination_State']==train.loc[i, 'Destination_State']].index))[0], 'times']\n",
    "            else:\n",
    "                pass\n",
    "    i += 1"
   ]
  },
  {
   "cell_type": "code",
   "execution_count": null,
   "id": "36b21864",
   "metadata": {},
   "outputs": [],
   "source": [
    "train.isnull().sum()"
   ]
  },
  {
   "cell_type": "code",
   "execution_count": null,
   "id": "4e80a208",
   "metadata": {},
   "outputs": [],
   "source": [
    "from sklearn.linear_model import LinearRegression\n",
    "\n",
    "model = LinearRegression(fit_intercept=False)\n",
    "\n",
    "model.fit(pd.DataFrame(train[train['time'].notnull()][['Distance', 'time']]['time']), pd.DataFrame(train[train['time'].notnull()][['Distance', 'time']]['Distance']))\n",
    "\n",
    "print(model.coef_)\n",
    "print(model.intercept_)"
   ]
  },
  {
   "cell_type": "code",
   "execution_count": null,
   "id": "c8514941",
   "metadata": {},
   "outputs": [],
   "source": [
    "train"
   ]
  },
  {
   "cell_type": "code",
   "execution_count": null,
   "id": "95ce2b7c",
   "metadata": {},
   "outputs": [],
   "source": [
    "dpm = 5.38393855"
   ]
  },
  {
   "cell_type": "code",
   "execution_count": null,
   "id": "351d4a99",
   "metadata": {},
   "outputs": [],
   "source": [
    "train['time'] = train['Distance']/dpm"
   ]
  },
  {
   "cell_type": "code",
   "execution_count": null,
   "id": "d65de25a",
   "metadata": {},
   "outputs": [],
   "source": [
    "i = 0\n",
    "while i <= 999999:\n",
    "    if train.loc[i, 'edt'] < 0:\n",
    "        train.loc[i, 'edt'] += 1440\n",
    "        train.loc[i, 'eat'] += 1440\n",
    "    i += 1"
   ]
  },
  {
   "cell_type": "code",
   "execution_count": null,
   "id": "981fde22",
   "metadata": {},
   "outputs": [],
   "source": [
    "i = 0\n",
    "while i <= 999999:\n",
    "    if train.loc[i, 'edt'] > 0:\n",
    "        train.loc[i, 'eat'] = round(train.loc[i, 'eat'])\n",
    "        train.loc[i, 'edt'] = round(train.loc[i, 'edt'])\n",
    "    i += 1"
   ]
  },
  {
   "cell_type": "code",
   "execution_count": null,
   "id": "1243bb65",
   "metadata": {},
   "outputs": [],
   "source": [
    "train.to_csv(\"C:/vscode/open/final/training.csv\")"
   ]
  },
  {
   "cell_type": "code",
   "execution_count": null,
   "id": "270e359e",
   "metadata": {},
   "outputs": [],
   "source": [
    "oa = train.groupby('Origin_Airport')['Airline'].unique().reset_index().dropna()"
   ]
  },
  {
   "cell_type": "code",
   "execution_count": null,
   "id": "33efc7a9",
   "metadata": {},
   "outputs": [],
   "source": [
    "da = train.groupby('Destination_Airport')['Airline'].unique().reset_index().dropna()"
   ]
  },
  {
   "cell_type": "code",
   "execution_count": null,
   "id": "e3bcd20d",
   "metadata": {},
   "outputs": [],
   "source": [
    "ta = train.groupby('Tail_Number')['Airline'].unique().reset_index().dropna()"
   ]
  },
  {
   "cell_type": "code",
   "execution_count": null,
   "id": "7433dbf1",
   "metadata": {},
   "outputs": [],
   "source": [
    "import random"
   ]
  },
  {
   "cell_type": "code",
   "execution_count": null,
   "id": "c83aaaef",
   "metadata": {},
   "outputs": [],
   "source": [
    "oairlineairport = train.groupby('Origin_Airport')['Airline'].unique().reset_index()\n",
    "\n",
    "dairlineairport = train.groupby('Destination_Airport')['Airline'].unique().reset_index()"
   ]
  },
  {
   "cell_type": "code",
   "execution_count": null,
   "id": "9d346816",
   "metadata": {},
   "outputs": [],
   "source": [
    "carr_id = train.groupby('Carrier_ID(DOT)')['Airline'].unique().reset_index()"
   ]
  },
  {
   "cell_type": "code",
   "execution_count": null,
   "id": "88cba235",
   "metadata": {},
   "outputs": [],
   "source": [
    "ccod = train.groupby(\"Carrier_Code(IATA)\")['Airline'].unique().reset_index()"
   ]
  },
  {
   "cell_type": "code",
   "execution_count": null,
   "id": "31f5758c",
   "metadata": {},
   "outputs": [],
   "source": [
    "i = 0\n",
    "while i <= 999999:\n",
    "    j = 0\n",
    "    k = 0\n",
    "    l = 0\n",
    "    if isinstance(train.loc[i, 'Airline'], float):\n",
    "        \n",
    "        while j < len(oairlineairport['Origin_Airport']):\n",
    "            if train.loc[i, 'Origin_Airport'] == oairlineairport.loc[j, 'Origin_Airport']:\n",
    "                \n",
    "                while k < len(dairlineairport['Destination_Airport']):\n",
    "                    \n",
    "                    if train.loc[i, 'Destination_Airport'] == dairlineairport.loc[k, 'Destination_Airport']:\n",
    "                        \n",
    "                        while l < len(carr_id['Carrier_ID(DOT)']) :\n",
    "                            if train.loc[i, 'Carrier_ID(DOT)'] == carr_id.loc[l, 'Carrier_ID(DOT)']:\n",
    "                                \n",
    "                                train.loc[i, 'Airline'] = list(set(oairlineairport.loc[j, 'Airline'])&set(dairlineairport.loc[k, 'Airline'])&set(carr_id.loc[l, 'Airline']))[random.randint(0, (len(set(oairlineairport.loc[j, 'Airline'])&set(dairlineairport.loc[k, 'Airline'])&set(carr_id.loc[l, 'Airline']))-1))]\n",
    "                                break\n",
    "                                \n",
    "                            l += 1\n",
    "                        break\n",
    "                        \n",
    "                    k += 1\n",
    "                break\n",
    "                \n",
    "            j += 1\n",
    "    i += 1"
   ]
  },
  {
   "cell_type": "code",
   "execution_count": null,
   "id": "1db9cac0",
   "metadata": {},
   "outputs": [],
   "source": [
    "i = 0\n",
    "while i <= 999999:\n",
    "    j = 0\n",
    "    if isinstance(train.loc[i, 'Airline'], float):\n",
    "        while j < len(oa['Origin_Airport']):\n",
    "            k = 0\n",
    "            if oa.loc[j, 'Origin_Airport'] == train.loc[i, 'Origin_Airport']:\n",
    "                while k < len(da['Destination_Airport']):\n",
    "                    l = 0\n",
    "                    if da.loc[k, 'Destination_Airport'] == train.loc[i, 'Destination_Airport']:\n",
    "                        \n",
    "                        while l < len(ta['Tail_Number']):\n",
    "                            if ta.loc[l, 'Tail_Number'] == train.loc[i, 'Tail_Number']:\n",
    "                                if len(set(oa.loc[j, 'Airline'])&set(da.loc[k, 'Airline'])&set(ta.loc[l, 'Airline'])) == 0:\n",
    "                                    train.loc[i, 'Airline'] = list(set(oa.loc[j, 'Airline'])&set(da.loc[k, 'Airline']))[random.randint(0, int(len(list(set(oa.loc[j, 'Airline'])&set(da.loc[k, 'Airline']))))-1)]\n",
    "                                    break\n",
    "                                else:\n",
    "                                    train.loc[i, 'Airline'] = list(set(oa.loc[j, 'Airline'])&set(da.loc[k, 'Airline'])&set(ta.loc[l, 'Airline']))[random.randint(0, int(len(list(set(oa.loc[j, 'Airline'])&set(da.loc[k, 'Airline'])&set(ta.loc[l, 'Airline']))))-1)]\n",
    "                                    break\n",
    "                                break\n",
    "                            l += 1\n",
    "                        break        \n",
    "                    k += 1\n",
    "                break        \n",
    "            j += 1\n",
    "    i += 1"
   ]
  },
  {
   "cell_type": "code",
   "execution_count": null,
   "id": "fe235f9e",
   "metadata": {},
   "outputs": [],
   "source": [
    "i = 0\n",
    "while i <= 999999:\n",
    "    j = 0\n",
    "    if isinstance(train.loc[i, 'Airline'], float):\n",
    "        while j < len(oa['Origin_Airport']):\n",
    "            k = 0\n",
    "            if oa.loc[j, 'Origin_Airport'] == train.loc[i, 'Origin_Airport']:\n",
    "                while k < len(da['Destination_Airport']):\n",
    "                    l = 0\n",
    "                    if da.loc[k, 'Destination_Airport'] == train.loc[i, 'Destination_Airport']:\n",
    "                        \n",
    "                        while l < len(ccod['Carrier_Code(IATA)']):\n",
    "                            if ccod.loc[l, 'Carrier_Code(IATA)'] == train.loc[i, 'Carrier_Code(IATA)']:\n",
    "                                if len(set(oa.loc[j, 'Airline'])&set(da.loc[k, 'Airline'])&set(ccod.loc[l, 'Airline'])) == 0:\n",
    "                                    train.loc[i, 'Airline'] = list(set(oa.loc[j, 'Airline'])&set(da.loc[k, 'Airline']))[random.randint(0, int(len(list(set(oa.loc[j, 'Airline'])&set(da.loc[k, 'Airline']))))-1)]\n",
    "                                    break\n",
    "                                else:\n",
    "                                    train.loc[i, 'Airline'] = list(set(oa.loc[j, 'Airline'])&set(da.loc[k, 'Airline'])&set(ccod.loc[l, 'Airline']))[random.randint(0, int(len(list(set(oa.loc[j, 'Airline'])&set(da.loc[k, 'Airline'])&set(ta.loc[l, 'Airline']))))-1)]\n",
    "                                    break\n",
    "                                break\n",
    "                            l += 1\n",
    "                        break        \n",
    "                    k += 1\n",
    "                break        \n",
    "            j += 1\n",
    "    i += 1"
   ]
  },
  {
   "cell_type": "code",
   "execution_count": null,
   "id": "5314b893",
   "metadata": {},
   "outputs": [],
   "source": [
    "train.isnull().sum()"
   ]
  },
  {
   "cell_type": "code",
   "execution_count": null,
   "id": "3a16d0b4",
   "metadata": {},
   "outputs": [],
   "source": [
    "i = 0\n",
    "while i <= 999999:\n",
    "    if isinstance(train.loc[i, 'Airline'], float):\n",
    "        j = 0\n",
    "        k = 0\n",
    "        while j < 52:\n",
    "            if train.loc[i, 'Origin_Airport'] == oa.loc[j, 'Origin_Airport']:\n",
    "                while k < 52:\n",
    "                    if train.loc[i, 'Destination_Airport'] == da.loc[k, 'Destination_Airport']:\n",
    "                        train.loc[i, 'Airline'] = list(set(oa.loc[j, 'Airline'])&set(da.loc[k, 'Airline']))[random.randint(0, len(list(set(oa.loc[j, 'Airline'])&set(da.loc[k, 'Airline'])))-1)]\n",
    "                    k += 1\n",
    "            j += 1    \n",
    "        \n",
    "    i += 1"
   ]
  },
  {
   "cell_type": "code",
   "execution_count": null,
   "id": "9ba2d701",
   "metadata": {
    "scrolled": true
   },
   "outputs": [],
   "source": [
    "train.isnull().sum()"
   ]
  },
  {
   "cell_type": "code",
   "execution_count": null,
   "id": "4e7dd008",
   "metadata": {},
   "outputs": [],
   "source": [
    "while train['Airline'].isnull().sum() > 50:\n",
    "    i = 0\n",
    "    while i <= 999999:\n",
    "        j = 0\n",
    "        if isinstance(train.loc[i, 'Airline'], float):\n",
    "            while j < len(oa['Origin_Airport']):\n",
    "                if train.loc[i, 'Origin_Airport'] == oa.loc[j, 'Origin_Airport']:\n",
    "                    train.loc[i, 'Airline'] = oa.loc[j, 'Airline'][random.randint(0, int(len(oa.loc[j, 'Airline'])-1))]\n",
    "                j += 1\n",
    "        i += 1"
   ]
  },
  {
   "cell_type": "code",
   "execution_count": null,
   "id": "b70229e0",
   "metadata": {},
   "outputs": [],
   "source": [
    "train.isnull().sum()"
   ]
  },
  {
   "cell_type": "code",
   "execution_count": null,
   "id": "a3c5f01c",
   "metadata": {},
   "outputs": [],
   "source": [
    "os = train.groupby(\"Origin_State\")['Airline'].unique().reset_index()"
   ]
  },
  {
   "cell_type": "code",
   "execution_count": null,
   "id": "77cac7d7",
   "metadata": {},
   "outputs": [],
   "source": [
    "i = 0\n",
    "while i <= 999999:\n",
    "    j = 0\n",
    "    if isinstance(train.loc[i, 'Airline'], float):\n",
    "        while j < 52:\n",
    "            if train.loc[i, 'Origin_State'] == os.loc[j, 'Origin_State']:\n",
    "                train.loc[i, 'Airline'] = os.loc[j, 'Airline'][random.randint(0, len(os.loc[j, 'Airline'])-1)]\n",
    "            j += 1\n",
    "    i += 1"
   ]
  },
  {
   "cell_type": "code",
   "execution_count": null,
   "id": "3d42cebf",
   "metadata": {},
   "outputs": [],
   "source": [
    "train.isnull().sum()"
   ]
  },
  {
   "cell_type": "code",
   "execution_count": null,
   "id": "84740ba0",
   "metadata": {},
   "outputs": [],
   "source": [
    "missing_airport = train[train['Destination_State'].isnull()]['Airline']"
   ]
  },
  {
   "cell_type": "code",
   "execution_count": null,
   "id": "bdf0ada7",
   "metadata": {},
   "outputs": [],
   "source": [
    "\n",
    "train[train['Airline']=='Allegiant Air']['Destination_State'].mode()\n",
    "    "
   ]
  },
  {
   "cell_type": "code",
   "execution_count": null,
   "id": "ce92ceed",
   "metadata": {},
   "outputs": [],
   "source": [
    "train['Destination_State'] = train['Destination_State'].fillna('Florida')"
   ]
  },
  {
   "cell_type": "code",
   "execution_count": null,
   "id": "87ae72f0",
   "metadata": {},
   "outputs": [],
   "source": [
    "train.isnull().sum()"
   ]
  },
  {
   "cell_type": "code",
   "execution_count": null,
   "id": "61d5c91c",
   "metadata": {},
   "outputs": [],
   "source": [
    "train = train.drop(columns = ['Carrier_Code(IATA)', 'Carrier_ID(DOT)'])"
   ]
  },
  {
   "cell_type": "code",
   "execution_count": null,
   "id": "71bf76e4",
   "metadata": {},
   "outputs": [],
   "source": [
    "train.describe()"
   ]
  },
  {
   "cell_type": "code",
   "execution_count": null,
   "id": "8f15435c",
   "metadata": {},
   "outputs": [],
   "source": [
    "train.to_csv(\"C:/vscode/open/final/training2.csv\")"
   ]
  },
  {
   "cell_type": "code",
   "execution_count": null,
   "id": "c2d83539",
   "metadata": {},
   "outputs": [],
   "source": [
    "train = pd.read_csv(\"C:/vscode/open/final/training2a.csv\")"
   ]
  },
  {
   "cell_type": "markdown",
   "id": "4a25c8f0",
   "metadata": {},
   "source": [
    "# edt, eat 칼럼 정리, 날짜변환"
   ]
  },
  {
   "cell_type": "code",
   "execution_count": null,
   "id": "249ca597",
   "metadata": {},
   "outputs": [],
   "source": [
    "i = 0\n",
    "while i <= 999999:\n",
    "    if train.loc[i, 'eat'] >= 1440:\n",
    "        train.loc[i, 'eat'] -= 1440\n",
    "        train.loc[i, 'aday'] += 1\n",
    "    i += 1"
   ]
  },
  {
   "cell_type": "code",
   "execution_count": null,
   "id": "0549fe22",
   "metadata": {},
   "outputs": [],
   "source": [
    "train['edt'].describe()"
   ]
  },
  {
   "cell_type": "code",
   "execution_count": null,
   "id": "a72d400c",
   "metadata": {},
   "outputs": [],
   "source": [
    "train['aday'].describe()"
   ]
  },
  {
   "cell_type": "code",
   "execution_count": null,
   "id": "eaf3e57e",
   "metadata": {},
   "outputs": [],
   "source": [
    "i = 0\n",
    "while i <= 999999:\n",
    "    if train.loc[i, 'aday'] >= 32:\n",
    "        train.loc[i, 'amonth'] += 1\n",
    "        train.loc[i, 'aday'] = 1\n",
    "    i += 1"
   ]
  },
  {
   "cell_type": "code",
   "execution_count": null,
   "id": "59a8fb49",
   "metadata": {},
   "outputs": [],
   "source": [
    "i = 0\n",
    "while i <= 999999:\n",
    "    if train.loc[i, 'amonth'] == 2:\n",
    "        if train.loc[i, 'aday'] >= 29:\n",
    "            train.loc[i, 'amonth'] += 1\n",
    "            train.loc[i, 'aday'] -= 28\n",
    "    elif train.loc[i, 'amonth'] in [4, 6, 9, 11]:\n",
    "        if train.loc[i, 'aday'] >= 31:\n",
    "            train.loc[i, 'amonth'] += 1\n",
    "            train.loc[i, 'aday'] -= 30\n",
    "    i += 1"
   ]
  },
  {
   "cell_type": "code",
   "execution_count": null,
   "id": "b79c6661",
   "metadata": {},
   "outputs": [],
   "source": [
    "train.isnull().sum()"
   ]
  },
  {
   "cell_type": "markdown",
   "id": "da53e264",
   "metadata": {},
   "source": [
    "# 테이블 컬럼 정리"
   ]
  },
  {
   "cell_type": "code",
   "execution_count": null,
   "id": "174ba4ec",
   "metadata": {},
   "outputs": [],
   "source": [
    "train.drop(columns = ['Month', 'Day_of_Month'], inplace=True)"
   ]
  },
  {
   "cell_type": "code",
   "execution_count": null,
   "id": "340793fc",
   "metadata": {},
   "outputs": [],
   "source": [
    "train.drop(columns = 'Unnamed: 0', inplace=True)"
   ]
  },
  {
   "cell_type": "code",
   "execution_count": null,
   "id": "ce023751",
   "metadata": {},
   "outputs": [],
   "source": [
    "train.drop(columns = ['Estimated_Departure_Time', 'Estimated_Arrival_Time'], inplace=True)"
   ]
  },
  {
   "cell_type": "code",
   "execution_count": null,
   "id": "ba1d0acb",
   "metadata": {},
   "outputs": [],
   "source": [
    "train = train.drop(index = 1000000)"
   ]
  },
  {
   "cell_type": "code",
   "execution_count": null,
   "id": "387a9919",
   "metadata": {},
   "outputs": [],
   "source": [
    "train"
   ]
  },
  {
   "cell_type": "code",
   "execution_count": null,
   "id": "26c384f3",
   "metadata": {},
   "outputs": [],
   "source": [
    "train = train[['edt', 'eat', 'dmonth', 'dday', 'amonth', 'aday',\n",
    "       'Origin_Airport', 'Origin_State', 'Destination_Airport',\n",
    "       'Destination_State', 'Distance', 'Airline', 'Tail_Number', 'time', 'Delay']]"
   ]
  },
  {
   "cell_type": "code",
   "execution_count": null,
   "id": "b2ec7eee",
   "metadata": {},
   "outputs": [],
   "source": [
    "train.isnull().sum()"
   ]
  },
  {
   "cell_type": "markdown",
   "id": "5f8009ab",
   "metadata": {},
   "source": [
    "# 모델 적합"
   ]
  },
  {
   "cell_type": "code",
   "execution_count": null,
   "id": "61210332",
   "metadata": {},
   "outputs": [],
   "source": [
    "train.to_csv(\"C:/vscode/open/final/training3a.csv\")"
   ]
  },
  {
   "cell_type": "code",
   "execution_count": null,
   "id": "7b400c89",
   "metadata": {},
   "outputs": [],
   "source": [
    "train = pd.read_csv(\"C:/vscode/open/final/training3a.csv\")"
   ]
  },
  {
   "cell_type": "code",
   "execution_count": null,
   "id": "52e9462a",
   "metadata": {},
   "outputs": [],
   "source": [
    "data = train[train['Delay'].notnull()]"
   ]
  },
  {
   "cell_type": "code",
   "execution_count": null,
   "id": "203b4460",
   "metadata": {},
   "outputs": [],
   "source": [
    "target = data['Delay']\n",
    "data.drop(columns = 'Delay', inplace=True)"
   ]
  },
  {
   "cell_type": "code",
   "execution_count": null,
   "id": "7082c82b",
   "metadata": {},
   "outputs": [],
   "source": [
    "data"
   ]
  },
  {
   "cell_type": "code",
   "execution_count": null,
   "id": "d88f64c2",
   "metadata": {},
   "outputs": [],
   "source": [
    "target = target.replace('Not_Delayed', 0).replace('Delayed', 1)"
   ]
  },
  {
   "cell_type": "code",
   "execution_count": null,
   "id": "137f9486",
   "metadata": {},
   "outputs": [],
   "source": [
    "data = data.reset_index()"
   ]
  },
  {
   "cell_type": "code",
   "execution_count": null,
   "id": "ec524eb7",
   "metadata": {},
   "outputs": [],
   "source": [
    "data"
   ]
  },
  {
   "cell_type": "code",
   "execution_count": null,
   "id": "934af74c",
   "metadata": {},
   "outputs": [],
   "source": [
    "target=target.reset_index()"
   ]
  },
  {
   "cell_type": "code",
   "execution_count": null,
   "id": "056979a3",
   "metadata": {},
   "outputs": [],
   "source": [
    "i = 0\n",
    "while i < len(data['edt']):\n",
    "    data.loc[i, 'edt'] = float(data.loc[i, 'edt']//60)*100 + float((data.loc[i, 'edt']%60)/60)\n",
    "    data.loc[i, 'eat'] = float(data.loc[i, 'eat']//60)*100 + float((data.loc[i, 'eat']%60)/60)\n",
    "    i += 1"
   ]
  },
  {
   "cell_type": "code",
   "execution_count": null,
   "id": "72bc8953",
   "metadata": {},
   "outputs": [],
   "source": [
    "from sklearn.preprocessing import LabelEncoder\n",
    "encoder = LabelEncoder()"
   ]
  },
  {
   "cell_type": "code",
   "execution_count": null,
   "id": "7f0e6f93",
   "metadata": {},
   "outputs": [],
   "source": [
    "train.to_csv(\"C:/vscode/open/final/training3b.csv\")"
   ]
  },
  {
   "cell_type": "code",
   "execution_count": null,
   "id": "d90b3a47",
   "metadata": {},
   "outputs": [],
   "source": [
    "encoder1 = encoder.fit(data['Origin_Airport'])\n",
    "data[\"Origin_Airport\"] = encoder1.transform(data['Origin_Airport'])\n",
    "data['Destination_Airport'] = encoder1.transform(data['Destination_Airport'])"
   ]
  },
  {
   "cell_type": "code",
   "execution_count": null,
   "id": "ae2061f8",
   "metadata": {},
   "outputs": [],
   "source": [
    "encoder2 = encoder.fit(data['Destination_State'])\n",
    "data['Origin_State'] = encoder2.transform(data['Origin_State'])\n",
    "data['Destination_State'] = encoder2.transform(data['Destination_State'])"
   ]
  },
  {
   "cell_type": "code",
   "execution_count": null,
   "id": "af0ab9b8",
   "metadata": {},
   "outputs": [],
   "source": [
    "encoder3 = encoder.fit(data['Airline'])\n",
    "data['Airline'] = encoder3.transform(data['Airline'])"
   ]
  },
  {
   "cell_type": "code",
   "execution_count": null,
   "id": "2ff55e5e",
   "metadata": {},
   "outputs": [],
   "source": [
    "data2 = pd.read_csv(\"C:/vscode/open/final/dta.csv\")"
   ]
  },
  {
   "cell_type": "code",
   "execution_count": null,
   "id": "17583661",
   "metadata": {},
   "outputs": [],
   "source": [
    "encoder4 = encoder.fit(data2['Tail_Number'])\n",
    "data2['Tail_Number'] = encoder4.transform(data2['Tail_Number'])"
   ]
  },
  {
   "cell_type": "code",
   "execution_count": null,
   "id": "0cc88b64",
   "metadata": {},
   "outputs": [],
   "source": [
    "encoder4 = encoder.fit(data['Tail_Number'])\n",
    "data['Tail_Number'] = encoder4.transform(data['Tail_Number'])"
   ]
  },
  {
   "cell_type": "code",
   "execution_count": null,
   "id": "91bea0b4",
   "metadata": {},
   "outputs": [],
   "source": [
    "data = data.drop(columns = 'index')"
   ]
  },
  {
   "cell_type": "code",
   "execution_count": null,
   "id": "4eb3c479",
   "metadata": {},
   "outputs": [],
   "source": [
    "data = data.drop(columns = 'Unnamed: 0')"
   ]
  },
  {
   "cell_type": "code",
   "execution_count": null,
   "id": "7bc6b47e",
   "metadata": {},
   "outputs": [],
   "source": [
    "data.dtypes"
   ]
  },
  {
   "cell_type": "code",
   "execution_count": null,
   "id": "f24bfc30",
   "metadata": {},
   "outputs": [],
   "source": [
    "if 'Unnamed: 0.1' in data.columns:\n",
    "    data.drop(columns = 'Unnamed: 0.1', inplace=True)"
   ]
  },
  {
   "cell_type": "code",
   "execution_count": null,
   "id": "272d82ee",
   "metadata": {},
   "outputs": [],
   "source": [
    "data['Origin_Airport']=data['Origin_Airport'].astype('category')"
   ]
  },
  {
   "cell_type": "code",
   "execution_count": null,
   "id": "dc868f68",
   "metadata": {},
   "outputs": [],
   "source": [
    "data['Destination_Airport']=data['Destination_Airport'].astype('category')"
   ]
  },
  {
   "cell_type": "code",
   "execution_count": null,
   "id": "980a4109",
   "metadata": {},
   "outputs": [],
   "source": [
    "data['Origin_State'] = data['Origin_State'].astype('category')"
   ]
  },
  {
   "cell_type": "code",
   "execution_count": null,
   "id": "88f4a3ef",
   "metadata": {},
   "outputs": [],
   "source": [
    "data['Destination_State'] = data['Destination_State'].astype('category')"
   ]
  },
  {
   "cell_type": "code",
   "execution_count": null,
   "id": "54002a06",
   "metadata": {},
   "outputs": [],
   "source": [
    "data['Airline'] = data['Airline'].astype('category')"
   ]
  },
  {
   "cell_type": "code",
   "execution_count": null,
   "id": "5e3b54ae",
   "metadata": {},
   "outputs": [],
   "source": [
    "data['Tail_Number'] = data['Tail_Number'].astype('category')"
   ]
  },
  {
   "cell_type": "code",
   "execution_count": null,
   "id": "2a247a84",
   "metadata": {},
   "outputs": [],
   "source": [
    "col = ['Origin_Airport', 'Destination_Airport', 'Origin_State', 'Destination_State', 'Airline', 'Tail_Number']"
   ]
  },
  {
   "cell_type": "code",
   "execution_count": null,
   "id": "3dfc68b1",
   "metadata": {},
   "outputs": [],
   "source": [
    "for i in col:\n",
    "    data[i] = data[i].cat.as_unordered()"
   ]
  },
  {
   "cell_type": "code",
   "execution_count": null,
   "id": "8116c78e",
   "metadata": {},
   "outputs": [],
   "source": [
    "from sklearn.preprocessing import StandardScaler"
   ]
  },
  {
   "cell_type": "code",
   "execution_count": null,
   "id": "358eaa94",
   "metadata": {},
   "outputs": [],
   "source": [
    "scaler = StandardScaler()"
   ]
  },
  {
   "cell_type": "code",
   "execution_count": null,
   "id": "7406faa2",
   "metadata": {},
   "outputs": [],
   "source": [
    "scaler.fit(pd.DataFrame(data['Distance']))"
   ]
  },
  {
   "cell_type": "code",
   "execution_count": null,
   "id": "f4d6d9b7",
   "metadata": {},
   "outputs": [],
   "source": [
    "data.dtypes"
   ]
  },
  {
   "cell_type": "code",
   "execution_count": null,
   "id": "6729718b",
   "metadata": {},
   "outputs": [],
   "source": [
    "target"
   ]
  },
  {
   "cell_type": "code",
   "execution_count": null,
   "id": "45beea8e",
   "metadata": {},
   "outputs": [],
   "source": [
    "target.drop(columns = 'index', inplace=True)"
   ]
  },
  {
   "cell_type": "code",
   "execution_count": null,
   "id": "de3363c0",
   "metadata": {
    "scrolled": true
   },
   "outputs": [],
   "source": [
    "target['Delay'] = target['Delay'].astype('int')"
   ]
  },
  {
   "cell_type": "code",
   "execution_count": null,
   "id": "52777156",
   "metadata": {},
   "outputs": [],
   "source": [
    "i = 0\n",
    "while i < len(target['Delay']):\n",
    "    if target.loc[i, 'Delay'] == 0:\n",
    "        target.loc[i, 'Delayed'] = 0\n",
    "        target.loc[i, 'Not_Delayed'] = 1\n",
    "    else:\n",
    "        target.loc[i, 'Delayed'] = 1\n",
    "        target.loc[i, 'Not_Delayed'] = 0\n",
    "    i += 1"
   ]
  },
  {
   "cell_type": "code",
   "execution_count": null,
   "id": "d7e8f1a5",
   "metadata": {},
   "outputs": [],
   "source": [
    "target.drop(columns = 'Delay', inplace=True)\n",
    "\n",
    "target['Delayed'] = target['Delayed'].astype('int')\n",
    "target['Not_Delayed'] = target['Not_Delayed'].astype('int')"
   ]
  },
  {
   "cell_type": "code",
   "execution_count": null,
   "id": "98c8083e",
   "metadata": {},
   "outputs": [],
   "source": [
    "from sklearn.model_selection import train_test_split\n",
    "\n",
    "xtrain, xtest, ytrain, ytest = train_test_split(data, target, test_size=0.25)"
   ]
  },
  {
   "cell_type": "code",
   "execution_count": null,
   "id": "9049b916",
   "metadata": {},
   "outputs": [],
   "source": [
    "import xgboost as xgb"
   ]
  },
  {
   "cell_type": "code",
   "execution_count": null,
   "id": "42005f6b",
   "metadata": {},
   "outputs": [],
   "source": [
    "from xgboost import XGBClassifier"
   ]
  },
  {
   "cell_type": "code",
   "execution_count": null,
   "id": "83344c6c",
   "metadata": {},
   "outputs": [],
   "source": [
    "dtrain = xgb.DMatrix(data = xtrain, label = ytrain, enable_categorical=True)\n",
    "\n",
    "dtest = xgb.DMatrix(data = xtest, label = ytest, enable_categorical=True)\n",
    "\n",
    "params = {'max_depth':14, \n",
    "          'learning_rate':0.03,  \n",
    "          'scale_pos_weight':5, \n",
    "          'min_child_weight':3, \n",
    "          'objective' : 'binary:logistic',\n",
    "          'eval_metric':'logloss',\n",
    "          'booster':'gbtree'}\n",
    "\n",
    "num_rounds = 150"
   ]
  },
  {
   "cell_type": "code",
   "execution_count": null,
   "id": "3370dc59",
   "metadata": {},
   "outputs": [],
   "source": [
    "xgbmodel = xgb.train(params = params, num_boost_round = num_rounds, dtrain=dtrain)"
   ]
  },
  {
   "cell_type": "code",
   "execution_count": null,
   "id": "d7c197e0",
   "metadata": {},
   "outputs": [],
   "source": [
    "pred = xgbmodel.predict(dtest)"
   ]
  },
  {
   "cell_type": "code",
   "execution_count": null,
   "id": "e506c919",
   "metadata": {},
   "outputs": [],
   "source": [
    "from sklearn.metrics import log_loss"
   ]
  },
  {
   "cell_type": "code",
   "execution_count": null,
   "id": "106b5f50",
   "metadata": {},
   "outputs": [],
   "source": [
    "log_loss(ytest, pred)"
   ]
  },
  {
   "cell_type": "code",
   "execution_count": null,
   "id": "fd27978e",
   "metadata": {},
   "outputs": [],
   "source": [
    "pred"
   ]
  },
  {
   "cell_type": "code",
   "execution_count": null,
   "id": "200f7f9e",
   "metadata": {},
   "outputs": [],
   "source": [
    "testdata = pd.read_csv(\"C:/vscode/open/final/testdata4.csv\")"
   ]
  },
  {
   "cell_type": "code",
   "execution_count": null,
   "id": "82993e45",
   "metadata": {},
   "outputs": [],
   "source": [
    "testdata2 = pd.read_csv(\"C:/vscode/open/final/testdata4.csv\")"
   ]
  },
  {
   "cell_type": "code",
   "execution_count": null,
   "id": "7b51f930",
   "metadata": {},
   "outputs": [],
   "source": []
  },
  {
   "cell_type": "code",
   "execution_count": null,
   "id": "7a9f66dc",
   "metadata": {},
   "outputs": [],
   "source": [
    "for label in np.unique(testdata['Origin_Airport']):\n",
    "    if label not in encoder1.classes_:\n",
    "        encoder1.classes_ = np.append(encoder1.classes_, label)"
   ]
  },
  {
   "cell_type": "code",
   "execution_count": null,
   "id": "c3e45d8f",
   "metadata": {},
   "outputs": [],
   "source": [
    "testdata['Origin_Airport'] = encoder1.transform(testdata['Origin_Airport'])\n",
    "testdata['Destination_Airport'] = encoder1.transform(testdata['Destination_Airport'])"
   ]
  },
  {
   "cell_type": "code",
   "execution_count": null,
   "id": "fe9b8b8c",
   "metadata": {},
   "outputs": [],
   "source": [
    "testdata['Origin_State'].mode()"
   ]
  },
  {
   "cell_type": "code",
   "execution_count": null,
   "id": "980dae04",
   "metadata": {},
   "outputs": [],
   "source": [
    "testdata['Destination_State'].mode()"
   ]
  },
  {
   "cell_type": "code",
   "execution_count": null,
   "id": "5252add4",
   "metadata": {},
   "outputs": [],
   "source": [
    "testdata['Origin_State'] = testdata['Origin_State'].fillna('California')"
   ]
  },
  {
   "cell_type": "code",
   "execution_count": null,
   "id": "93d5d3a6",
   "metadata": {},
   "outputs": [],
   "source": [
    "testdata['Destination_State'] = testdata['Destination_State'].fillna('California')"
   ]
  },
  {
   "cell_type": "code",
   "execution_count": null,
   "id": "8ff338a0",
   "metadata": {},
   "outputs": [],
   "source": [
    "testdata['Origin_State'] = encoder2.transform(testdata['Origin_State'])\n",
    "testdata['Destination_State'] = encoder2.transform(testdata['Destination_State'])"
   ]
  },
  {
   "cell_type": "code",
   "execution_count": null,
   "id": "e90c4db7",
   "metadata": {},
   "outputs": [],
   "source": [
    "testdata['Airline'].mode()"
   ]
  },
  {
   "cell_type": "code",
   "execution_count": null,
   "id": "76bd11e8",
   "metadata": {},
   "outputs": [],
   "source": [
    "testdata['Airline'] = testdata['Airline'].fillna(\"Southwest Airlines Co.\")"
   ]
  },
  {
   "cell_type": "code",
   "execution_count": null,
   "id": "894f1a0d",
   "metadata": {},
   "outputs": [],
   "source": [
    "for label in np.unique(testdata['Airline']):\n",
    "    if label not in encoder3.classes_:\n",
    "        encoder3.classes = np.append(encoder3.classes_, label)"
   ]
  },
  {
   "cell_type": "code",
   "execution_count": null,
   "id": "f23cd545",
   "metadata": {},
   "outputs": [],
   "source": [
    "testdata['Airline'] = encoder3.transform(testdata['Airline'])"
   ]
  },
  {
   "cell_type": "code",
   "execution_count": null,
   "id": "0a990217",
   "metadata": {},
   "outputs": [],
   "source": [
    "for label in np.unique(testdata['Tail_Number']):\n",
    "    if label not in encoder4.classes_:\n",
    "        encoder4.classes_ = np.append(encoder4.classes_, label)"
   ]
  },
  {
   "cell_type": "code",
   "execution_count": null,
   "id": "845a7f0e",
   "metadata": {},
   "outputs": [],
   "source": [
    "testdata['Tail_Number'] = encoder4.transform(testdata['Tail_Number'])"
   ]
  },
  {
   "cell_type": "code",
   "execution_count": null,
   "id": "ad963b1a",
   "metadata": {},
   "outputs": [],
   "source": [
    "samsub = pd.read_csv(\"C:/vscode/open/sample_submission.csv\")"
   ]
  },
  {
   "cell_type": "code",
   "execution_count": null,
   "id": "26e7a6a5",
   "metadata": {},
   "outputs": [],
   "source": [
    "testdata.isnull().sum()"
   ]
  },
  {
   "cell_type": "code",
   "execution_count": null,
   "id": "48af90e3",
   "metadata": {},
   "outputs": [],
   "source": [
    "testdata['Distance'] = scaler.transform(pd.DataFrame(testdata['Distance']))"
   ]
  },
  {
   "cell_type": "code",
   "execution_count": null,
   "id": "9495876d",
   "metadata": {},
   "outputs": [],
   "source": [
    "testdata"
   ]
  },
  {
   "cell_type": "code",
   "execution_count": null,
   "id": "f24042a0",
   "metadata": {},
   "outputs": [],
   "source": [
    "data"
   ]
  },
  {
   "cell_type": "code",
   "execution_count": null,
   "id": "665a77ab",
   "metadata": {},
   "outputs": [],
   "source": [
    "testdata.drop(columns = ['Unnamed: 0'], inplace=True)"
   ]
  },
  {
   "cell_type": "code",
   "execution_count": null,
   "id": "b501bb28",
   "metadata": {},
   "outputs": [],
   "source": [
    "clist = ['Origin_Airport', 'Origin_State', 'Destination_State', 'Destination_Airport', 'Airline', 'Tail_Number']"
   ]
  },
  {
   "cell_type": "code",
   "execution_count": null,
   "id": "f7a7bc49",
   "metadata": {},
   "outputs": [],
   "source": [
    "for i in clist:\n",
    "    testdata[i] = testdata[i].astype('category')\n",
    "    testdata[i] = testdata[i].cat.as_unordered()"
   ]
  },
  {
   "cell_type": "code",
   "execution_count": null,
   "id": "47f519c9",
   "metadata": {},
   "outputs": [],
   "source": []
  },
  {
   "cell_type": "code",
   "execution_count": null,
   "id": "07d10f3f",
   "metadata": {},
   "outputs": [],
   "source": [
    "testdata"
   ]
  },
  {
   "cell_type": "code",
   "execution_count": null,
   "id": "4bfc78d0",
   "metadata": {},
   "outputs": [],
   "source": [
    "testdata.dtypes"
   ]
  },
  {
   "cell_type": "markdown",
   "id": "683fe59c",
   "metadata": {},
   "source": [
    "# Model Predict I"
   ]
  },
  {
   "cell_type": "code",
   "execution_count": null,
   "id": "188d1c38",
   "metadata": {},
   "outputs": [],
   "source": [
    "samid = samsub['ID']"
   ]
  },
  {
   "cell_type": "code",
   "execution_count": null,
   "id": "4f9daa97",
   "metadata": {},
   "outputs": [],
   "source": [
    "samsub.drop(columns = 'ID', inplace=True)"
   ]
  },
  {
   "cell_type": "code",
   "execution_count": null,
   "id": "c5144c20",
   "metadata": {},
   "outputs": [],
   "source": [
    "samsub = samsub[['Delayed', 'Not_Delayed']]"
   ]
  },
  {
   "cell_type": "code",
   "execution_count": null,
   "id": "7e8bce39",
   "metadata": {},
   "outputs": [],
   "source": [
    "dsubmit = xgb.DMatrix(data = testdata, label = samsub, enable_categorical=True)"
   ]
  },
  {
   "cell_type": "code",
   "execution_count": null,
   "id": "532b8e9c",
   "metadata": {},
   "outputs": [],
   "source": [
    "submis1 = xgbmodel.predict(dsubmit)"
   ]
  },
  {
   "cell_type": "code",
   "execution_count": null,
   "id": "22aeef91",
   "metadata": {},
   "outputs": [],
   "source": [
    "submis1 = pd.DataFrame(submis1)"
   ]
  },
  {
   "cell_type": "code",
   "execution_count": null,
   "id": "9f35f221",
   "metadata": {},
   "outputs": [],
   "source": [
    "samsub1 = pd.concat([samid, submis1], axis=1)"
   ]
  },
  {
   "cell_type": "code",
   "execution_count": null,
   "id": "556c473a",
   "metadata": {},
   "outputs": [],
   "source": [
    "samsub1.columns = ['ID', 'Delayed', 'Not_Delayed']"
   ]
  },
  {
   "cell_type": "code",
   "execution_count": null,
   "id": "e627cfa2",
   "metadata": {},
   "outputs": [],
   "source": [
    "samsub1 = samsub1[[\"ID\", \"Not_Delayed\", 'Delayed']]"
   ]
  },
  {
   "cell_type": "code",
   "execution_count": null,
   "id": "fd71e109",
   "metadata": {},
   "outputs": [],
   "source": [
    "samsub1"
   ]
  },
  {
   "cell_type": "code",
   "execution_count": null,
   "id": "86562023",
   "metadata": {},
   "outputs": [],
   "source": [
    "samsub1 = samsub1.set_index(\"ID\")"
   ]
  },
  {
   "cell_type": "code",
   "execution_count": null,
   "id": "b44e3c65",
   "metadata": {},
   "outputs": [],
   "source": [
    "samsub1"
   ]
  },
  {
   "cell_type": "code",
   "execution_count": null,
   "id": "44e0437a",
   "metadata": {},
   "outputs": [],
   "source": [
    "samsub1.to_csv(\"C:/vscode/open/submission/samsub9.csv\")"
   ]
  },
  {
   "cell_type": "markdown",
   "id": "30c14ce9",
   "metadata": {},
   "source": [
    "# Model Predict II"
   ]
  },
  {
   "cell_type": "code",
   "execution_count": null,
   "id": "6908337e",
   "metadata": {},
   "outputs": [],
   "source": [
    "samsub2 = samsub1.copy()"
   ]
  },
  {
   "cell_type": "code",
   "execution_count": null,
   "id": "772ab557",
   "metadata": {},
   "outputs": [],
   "source": [
    "samsub2 = samsub2.reset_index()"
   ]
  },
  {
   "cell_type": "code",
   "execution_count": null,
   "id": "39d15f2e",
   "metadata": {},
   "outputs": [],
   "source": [
    "i = 0\n",
    "while i < 1000000:\n",
    "    samsub2.loc[i, 'Not_Delayed'] = samsub2.loc[i, 'Not_Delayed']/(samsub2.loc[i, 'Not_Delayed']+samsub2.loc[i, \"Delayed\"])\n",
    "    samsub2.loc[i, \"Delayed\"] = samsub2.loc[i, 'Delayed']/(samsub2.loc[i, 'Not_Delayed']+samsub2.loc[i, \"Delayed\"])\n",
    "    i += 1"
   ]
  },
  {
   "cell_type": "code",
   "execution_count": null,
   "id": "4777dac9",
   "metadata": {},
   "outputs": [],
   "source": [
    "samsub2 = samsub2.set_index(\"ID\")"
   ]
  },
  {
   "cell_type": "code",
   "execution_count": null,
   "id": "68f0c90b",
   "metadata": {},
   "outputs": [],
   "source": [
    "samsub2.to_csv(\"C:/vscode/open/submission/samsub10.csv\")"
   ]
  },
  {
   "cell_type": "code",
   "execution_count": null,
   "id": "14dc6ead",
   "metadata": {},
   "outputs": [],
   "source": [
    "samsub3 = samsub2.copy().reset_index()"
   ]
  },
  {
   "cell_type": "code",
   "execution_count": null,
   "id": "e6df4a3e",
   "metadata": {},
   "outputs": [],
   "source": [
    "i = 0\n",
    "while i <= 999999:\n",
    "    samsub3.loc[i, 'Not_Delayed'] = samsub3.loc[i, 'Not_Delayed'] - 0.1\n",
    "    samsub3.loc[i, 'Delayed'] = samsub3.loc[i, 'Delayed'] +0.1\n",
    "    i += 1"
   ]
  },
  {
   "cell_type": "code",
   "execution_count": null,
   "id": "e422e25b",
   "metadata": {},
   "outputs": [],
   "source": [
    "samsub3=pd.concat([samid, samsub3], axis=1)"
   ]
  },
  {
   "cell_type": "code",
   "execution_count": null,
   "id": "8d836e4e",
   "metadata": {},
   "outputs": [],
   "source": [
    "samsub3 = samsub3.set_index(\"ID\")"
   ]
  },
  {
   "cell_type": "code",
   "execution_count": null,
   "id": "e0e36b3b",
   "metadata": {},
   "outputs": [],
   "source": [
    "samsub3"
   ]
  },

  {
   "cell_type": "markdown",
   "id": "834060ac",
   "metadata": {},
   "source": [
    ""
   ]
  }
 ],
 "metadata": {
  "kernelspec": {
   "display_name": "Python 3 (ipykernel)",
   "language": "python",
   "name": "python3"
  },
  "language_info": {
   "codemirror_mode": {
    "name": "ipython",
    "version": 3
   },
   "file_extension": ".py",
   "mimetype": "text/x-python",
   "name": "python",
   "nbconvert_exporter": "python",
   "pygments_lexer": "ipython3",
   "version": "3.9.7"
  }
 },
 "nbformat": 4,
 "nbformat_minor": 5
}
